{
 "cells": [
  {
   "cell_type": "code",
   "execution_count": 11,
   "metadata": {},
   "outputs": [],
   "source": [
    "import numpy as np\n",
    "from math_utils import compute_A_prime"
   ]
  },
  {
   "cell_type": "markdown",
   "metadata": {},
   "source": [
    "### Examine Dynamics of Memory Strength"
   ]
  },
  {
   "cell_type": "code",
   "execution_count": 10,
   "metadata": {},
   "outputs": [],
   "source": [
    "#parameters \n",
    "tau_0 = 2e2\n",
    "learning_rate = 9000e-3\n",
    "tau = 5e-3 \n",
    "epsilon = 0.1118\n",
    "A_plus = 2\n",
    "A_minus = -2.1\n",
    "g = 0.1\n",
    "tau_plus = 50e-3\n",
    "tau_minus = 100e-3\n",
    "A_plus_prime = compute_A_prime(A_plus, learning_rate, g, epsilon, tau)\n",
    "A_minus_prime = compute_A_prime(A_minus, learning_rate, g, epsilon, tau)\n"
   ]
  },
  {
   "cell_type": "code",
   "execution_count": 7,
   "metadata": {},
   "outputs": [
    {
     "data": {
      "text/plain": [
       "-0.23623563600000005"
      ]
     },
     "execution_count": 7,
     "metadata": {},
     "output_type": "execute_result"
    }
   ],
   "source": []
  }
 ],
 "metadata": {
  "kernelspec": {
   "display_name": "Python 3",
   "language": "python",
   "name": "python3"
  },
  "language_info": {
   "codemirror_mode": {
    "name": "ipython",
    "version": 3
   },
   "file_extension": ".py",
   "mimetype": "text/x-python",
   "name": "python",
   "nbconvert_exporter": "python",
   "pygments_lexer": "ipython3",
   "version": "3.7.3"
  }
 },
 "nbformat": 4,
 "nbformat_minor": 4
}
